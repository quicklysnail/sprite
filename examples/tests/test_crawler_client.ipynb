{
 "cells": [
  {
   "cell_type": "code",
   "execution_count": 124,
   "metadata": {},
   "outputs": [],
   "source": [
    "import os"
   ]
  },
  {
   "cell_type": "code",
   "execution_count": 125,
   "metadata": {},
   "outputs": [
    {
     "data": {
      "text/plain": [
       "'/Users/liyong/projects/open_source/sprite/examples/tests'"
      ]
     },
     "execution_count": 125,
     "metadata": {},
     "output_type": "execute_result"
    }
   ],
   "source": [
    "os.getcwd()"
   ]
  },
  {
   "cell_type": "code",
   "execution_count": 75,
   "metadata": {},
   "outputs": [],
   "source": [
    "from sprite.utils.rpc import client_call"
   ]
  },
  {
   "cell_type": "code",
   "execution_count": 76,
   "metadata": {},
   "outputs": [],
   "source": [
    "addr = \"localhost:8088\""
   ]
  },
  {
   "cell_type": "code",
   "execution_count": 72,
   "metadata": {},
   "outputs": [
    {
     "name": "stdout",
     "output_type": "stream",
     "text": [
      "{\"msg\": \"ok\", \"data\": \"test_spider\"}\n"
     ]
    }
   ],
   "source": [
    "result = client_call(addr, \"run_crawler\",\"test_spider\")\n",
    "print(result)"
   ]
  },
  {
   "cell_type": "code",
   "execution_count": 77,
   "metadata": {},
   "outputs": [
    {
     "name": "stdout",
     "output_type": "stream",
     "text": [
      "{\"msg\": \"ok\", \"data\": \"\\u5df2\\u7ecf\\u505c\\u6b62\"}\n"
     ]
    }
   ],
   "source": [
    "result = client_call(addr, \"get_crawler_state\", \"test_spider\")\n",
    "print(result)"
   ]
  },
  {
   "cell_type": "code",
   "execution_count": 78,
   "metadata": {},
   "outputs": [
    {
     "name": "stdout",
     "output_type": "stream",
     "text": [
      "{\"msg\": \"ok\", \"data\": \"\\u8fd0\\u884c\\u72b6\\u6001\"}\n"
     ]
    }
   ],
   "source": [
    "result = client_call(addr, \"get_coroutine_pool_state\")\n",
    "print(result)"
   ]
  },
  {
   "cell_type": "code",
   "execution_count": 119,
   "metadata": {},
   "outputs": [
    {
     "name": "stdout",
     "output_type": "stream",
     "text": [
      "{\"msg\": \"ok\", \"data\": []}\n"
     ]
    }
   ],
   "source": [
    "result = client_call(addr, \"stop_server\")\n",
    "print(result)"
   ]
  },
  {
   "cell_type": "code",
   "execution_count": 79,
   "metadata": {},
   "outputs": [
    {
     "name": "stdout",
     "output_type": "stream",
     "text": [
      "{\"msg\": \"failed\", \"data\": \"crawler is not running\"}\n"
     ]
    }
   ],
   "source": [
    "result = client_call(addr, \"close_crawl\", \"test_spider\")\n",
    "print(result)"
   ]
  },
  {
   "cell_type": "code",
   "execution_count": 123,
   "metadata": {},
   "outputs": [
    {
     "name": "stdout",
     "output_type": "stream",
     "text": [
      "{\"msg\": \"failed\", \"data\": \"Traceback (most recent call last):\\n  File \\\"/Users/liyong/projects/open_source/sprite/sprite/crawl.py\\\", line 226, in _import_crawler\\n    msg, data = self.import_crawler(module_path)\\n  File \\\"/Users/liyong/projects/open_source/sprite/sprite/crawl.py\\\", line 284, in import_crawler\\n    module_object()\\n  File \\\"/Users/liyong/projects/open_source/sprite/examples/test_spider_one/test_crawler_config.py\\\", line 25, in set_test_one_crawler\\n    spider=spider, middlewareManager=test_middleware, settings=settings)\\n  File \\\"/Users/liyong/projects/open_source/sprite/sprite/crawl.py\\\", line 34, in __init__\\n    coroutine_pool=self._coroutine_pool)\\n  File \\\"/Users/liyong/projects/open_source/sprite/sprite/core/engine.py\\\", line 304, in from_settings\\n    downloader=Downloader.from_settings(settings, coroutine_pool),\\n  File \\\"/Users/liyong/projects/open_source/sprite/sprite/core/download/__init__.py\\\", line 143, in from_settings\\n    timeout=timeout, limits=limits)\\n  File \\\"/Users/liyong/projects/open_source/sprite/sprite/core/download/__init__.py\\\", line 36, in __init__\\n    self._sem = asyncio.Semaphore(max_download_num)\\n  File \\\"/Users/liyong/modules/anaconda/anaconda3/envs/py36/lib/python3.6/asyncio/locks.py\\\", line 433, in __init__\\n    self._loop = events.get_event_loop()\\n  File \\\"/Users/liyong/modules/anaconda/anaconda3/envs/py36/lib/python3.6/asyncio/events.py\\\", line 694, in get_event_loop\\n    return get_event_loop_policy().get_event_loop()\\n  File \\\"/Users/liyong/modules/anaconda/anaconda3/envs/py36/lib/python3.6/asyncio/events.py\\\", line 602, in get_event_loop\\n    % threading.current_thread().name)\\nRuntimeError: There is no current event loop in thread 'Thread-3'.\\n\"}\n"
     ]
    }
   ],
   "source": [
    "result = client_call(addr, \"import_crawler\", \"examples.test_spider_one.test_crawler_config.set_test_one_crawler\")\n",
    "print(result)"
   ]
  },
  {
   "cell_type": "code",
   "execution_count": 116,
   "metadata": {},
   "outputs": [
    {
     "name": "stdout",
     "output_type": "stream",
     "text": [
      "{\"msg\": \"ok\", \"data\": []}\n"
     ]
    }
   ],
   "source": [
    "result = client_call(addr, \"get_all_crawler_name\")\n",
    "print(result)"
   ]
  },
  {
   "cell_type": "code",
   "execution_count": null,
   "metadata": {},
   "outputs": [],
   "source": []
  }
 ],
 "metadata": {
  "kernelspec": {
   "display_name": "Python 3",
   "language": "python",
   "name": "python3"
  },
  "language_info": {
   "codemirror_mode": {
    "name": "ipython",
    "version": 3
   },
   "file_extension": ".py",
   "mimetype": "text/x-python",
   "name": "python",
   "nbconvert_exporter": "python",
   "pygments_lexer": "ipython3",
   "version": "3.6.8"
  }
 },
 "nbformat": 4,
 "nbformat_minor": 2
}
